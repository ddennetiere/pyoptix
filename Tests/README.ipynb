{
 "cells": [
  {
   "cell_type": "code",
   "execution_count": 23,
   "id": "a3fe1aa8-5076-4e48-9527-9ec5ade8a640",
   "metadata": {
    "tags": []
   },
   "outputs": [
    {
     "data": {
      "text/markdown": [
       "Bibliothèque de simulation optique X pour le synchrotron SOLEIL\n",
       "===============================================================\n",
       "This library codes for a simulation tool for designing X-ray beamline. It has specifically\n",
       "been designed for the SOLEIL Synchrotron, but can be used for any X-ray optical design as shown in examples.\n",
       " \n",
       "\n",
       "Installing\n",
       "----------\n",
       "**[Install page](../doc/html/index.html#installing-pyoptix)** \n",
       "\n",
       "Examples\n",
       "--------\n",
       "\n",
       "### Design and simulation\n",
       "- **[Herm1](Hermes%20notebook.ipynb)** - [Hermes beamline](Hermes%20notebook.ipynb)  \n",
       "Définition et simulation de la ligne HERMES\n",
       "- **[Atto1](Ellipse%20Helimag.ipynb)** - [Helimag beamline V1](Ellipse%20Helimag.ipynb)  \n",
       "Définition et simulation d'une ligne pour Attolab avec miroirs de revolutions coniques\n",
       "- **[Atto2](Wolter%20Helimag.ipynb)** - [Helimag beamline V2](Wolter%20Helimag.ipynb)  \n",
       "Définition et simulation d'une ligne pour Attolab avec miroirs toriques\n",
       "- **[Atto3](KB_HELIMAG.ipynb)** - [Helimag beamline V3](KB_HELIMAG.ipynb)  \n",
       "Définition et simulation d'une ligne pour Attolab avec miroirs coniques en configuration Kirkpatrick-Baez\n",
       "\n",
       "\n",
       "### Tolerancing systems\n",
       "- **[Atto3b](KB_HELIMAG_tolerancing.ipynb)** - [Helimag beamline V3](KB_HELIMAG_tolerancing.ipynb)  \n",
       "\tImport d'une ligne pour Attolab avec miroirs coniques en configuration Kirkpatrick-Baez définie dans \n",
       "\t**[Atto3](KB_HELIMAG.ipynb)** et tolérancement de celle-ci.\n",
       "\n",
       "### Optimization\n",
       "- **[HERM1](Hermes%20notebook.ipynb)** - [Hermes beamline](Hermes%20notebook.ipynb)  \n",
       "Définition et simulation de la ligne HERMES"
      ],
      "text/plain": [
       "<IPython.core.display.Markdown object>"
      ]
     },
     "metadata": {},
     "output_type": "display_data"
    }
   ],
   "source": [
    "from IPython.display import display, Markdown\n",
    "pyoptix_dir=\"D:/Dennetiere/Programmes Python/pyoptix/\"\n",
    "display(Markdown(open(pyoptix_dir+'/README.md', 'r', encoding=\"utf-8\").read()))\n",
    "#\n",
    "# This README is visible under Jupiter LAb ! :-)"
   ]
  }
 ],
 "metadata": {
  "kernelspec": {
   "display_name": "Python 3",
   "language": "python",
   "name": "python3"
  },
  "language_info": {
   "codemirror_mode": {
    "name": "ipython",
    "version": 3
   },
   "file_extension": ".py",
   "mimetype": "text/x-python",
   "name": "python",
   "nbconvert_exporter": "python",
   "pygments_lexer": "ipython3",
   "version": "3.8.10"
  }
 },
 "nbformat": 4,
 "nbformat_minor": 5
}
